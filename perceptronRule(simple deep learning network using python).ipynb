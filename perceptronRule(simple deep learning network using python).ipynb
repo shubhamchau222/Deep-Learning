{
 "cells": [
  {
   "cell_type": "code",
   "execution_count": 2,
   "metadata": {},
   "outputs": [],
   "source": [
    "import numpy as np \n",
    "import pandas as pd \n",
    "import matplotlib.pyplot as plt \n",
    "import seaborn as sns \n",
    "# import joblib \n",
    "\n",
    "plt.style.use(\"fivethirtyeight\")"
   ]
  },
  {
   "cell_type": "code",
   "execution_count": 28,
   "metadata": {},
   "outputs": [],
   "source": [
    "# create the basic single layer deep learning model \n",
    "# w <- w + eta * (y - y_hat)       -------> weigth updation\n",
    "\n",
    "\n",
    "class Perceptron :\n",
    "    def __init__(self , eta , epoch , activationFunction):\n",
    "        self.eta = eta \n",
    "        self.epoch = epoch \n",
    "        self.activationFunction = activationFunction\n",
    "        self.weights = np.random.randn(3) * 1e-4\n",
    "        print(f\"self.weights : \\n{self.weights}\")\n",
    "        \n",
    "    def fit(self , X , y):\n",
    "        self.X = X \n",
    "        self.y =  y\n",
    "        \n",
    "        X_with_biased = np.c_[self.X , -np.ones(( len(self.X) , 1 ))]  # concatination \n",
    "        print(f\"X_with_bias: \\n{X_with_biased}\")\n",
    "        \n",
    "        for epoch in range(self.epoch):\n",
    "            print(f'epoch no :==> {epoch}')\n",
    "            y_hat  = self.activationFunction( X_with_biased , self.weights )\n",
    "            print(f\"predicted value: \\n{y_hat}\")\n",
    "            error = self.y - y_hat\n",
    "            print(f\"error: \\n{error}\")\n",
    "            # we got the error , let's update the weights\n",
    "            # w <- w + eta * (y - y_hat)\n",
    "            self.weights = self.weights + self.eta * np.dot(X_with_biased.T, error)\n",
    "            print(f\"updated weights: \\n{self.weights}\")\n",
    "            print('##########' * 4 ,'\\n')\n",
    "            \n",
    "    def predict(self , X ):\n",
    "        X_with_biased = np.c_[self.X , -np.ones(( len(self.X) , 1 ))]  # concatination \n",
    "        return activationFunction( X_with_biased , self.weights )\n",
    "            "
   ]
  },
  {
   "cell_type": "code",
   "execution_count": 8,
   "metadata": {},
   "outputs": [],
   "source": [
    "activationFunction = lambda inputs , weights : np.where(np.dot(inputs , weights) > 0, 1 , 0 )\n",
    "# where the np.dot(inputs , weights) > 0 convert it as 1 else 0 \n",
    "# this the step function     "
   ]
  },
  {
   "cell_type": "markdown",
   "metadata": {},
   "source": [
    "```python \n",
    "# ways to write same function \n",
    " \n",
    "def activationFunction(inputs , weights):\n",
    "    mul = np.dot( inputs , weights )\n",
    "    y_hat  = np.where( mul > 0 , 1 , 0 )\n",
    "    return y_hat \n",
    " \n",
    " \n",
    "def activationFunction(inputs , weights):\n",
    "    mul = np.dot( inputs , weights )\n",
    "    if mul > 0 :\n",
    "        y_hat = 1 \n",
    "    else:\n",
    "        y_hat = 0 \n",
    "    return y_hat \n",
    " \n",
    "def activationFunction(inputs , weights):\n",
    "    mul = np.dot( inputs , weights )\n",
    "    return 1 if mul > 0 else 0\n",
    "```"
   ]
  },
  {
   "cell_type": "markdown",
   "metadata": {},
   "source": [
    "# AND "
   ]
  },
  {
   "cell_type": "code",
   "execution_count": 10,
   "metadata": {},
   "outputs": [
    {
     "data": {
      "text/html": [
       "<div>\n",
       "<style scoped>\n",
       "    .dataframe tbody tr th:only-of-type {\n",
       "        vertical-align: middle;\n",
       "    }\n",
       "\n",
       "    .dataframe tbody tr th {\n",
       "        vertical-align: top;\n",
       "    }\n",
       "\n",
       "    .dataframe thead th {\n",
       "        text-align: right;\n",
       "    }\n",
       "</style>\n",
       "<table border=\"1\" class=\"dataframe\">\n",
       "  <thead>\n",
       "    <tr style=\"text-align: right;\">\n",
       "      <th></th>\n",
       "      <th>x1</th>\n",
       "      <th>x2</th>\n",
       "      <th>y</th>\n",
       "    </tr>\n",
       "  </thead>\n",
       "  <tbody>\n",
       "    <tr>\n",
       "      <th>0</th>\n",
       "      <td>0</td>\n",
       "      <td>0</td>\n",
       "      <td>0</td>\n",
       "    </tr>\n",
       "    <tr>\n",
       "      <th>1</th>\n",
       "      <td>0</td>\n",
       "      <td>1</td>\n",
       "      <td>0</td>\n",
       "    </tr>\n",
       "    <tr>\n",
       "      <th>2</th>\n",
       "      <td>1</td>\n",
       "      <td>0</td>\n",
       "      <td>0</td>\n",
       "    </tr>\n",
       "    <tr>\n",
       "      <th>3</th>\n",
       "      <td>1</td>\n",
       "      <td>1</td>\n",
       "      <td>1</td>\n",
       "    </tr>\n",
       "  </tbody>\n",
       "</table>\n",
       "</div>"
      ],
      "text/plain": [
       "   x1  x2  y\n",
       "0   0   0  0\n",
       "1   0   1  0\n",
       "2   1   0  0\n",
       "3   1   1  1"
      ]
     },
     "execution_count": 10,
     "metadata": {},
     "output_type": "execute_result"
    }
   ],
   "source": [
    "data = {\"x1\": [0,0,1,1], \"x2\": [0,1,0,1], \"y\": [0,0,0,1]}\n",
    "AND = pd.DataFrame(data)\n",
    "AND"
   ]
  },
  {
   "cell_type": "code",
   "execution_count": 11,
   "metadata": {},
   "outputs": [
    {
     "data": {
      "text/html": [
       "<div>\n",
       "<style scoped>\n",
       "    .dataframe tbody tr th:only-of-type {\n",
       "        vertical-align: middle;\n",
       "    }\n",
       "\n",
       "    .dataframe tbody tr th {\n",
       "        vertical-align: top;\n",
       "    }\n",
       "\n",
       "    .dataframe thead th {\n",
       "        text-align: right;\n",
       "    }\n",
       "</style>\n",
       "<table border=\"1\" class=\"dataframe\">\n",
       "  <thead>\n",
       "    <tr style=\"text-align: right;\">\n",
       "      <th></th>\n",
       "      <th>x1</th>\n",
       "      <th>x2</th>\n",
       "    </tr>\n",
       "  </thead>\n",
       "  <tbody>\n",
       "    <tr>\n",
       "      <th>0</th>\n",
       "      <td>0</td>\n",
       "      <td>0</td>\n",
       "    </tr>\n",
       "    <tr>\n",
       "      <th>1</th>\n",
       "      <td>0</td>\n",
       "      <td>1</td>\n",
       "    </tr>\n",
       "    <tr>\n",
       "      <th>2</th>\n",
       "      <td>1</td>\n",
       "      <td>0</td>\n",
       "    </tr>\n",
       "    <tr>\n",
       "      <th>3</th>\n",
       "      <td>1</td>\n",
       "      <td>1</td>\n",
       "    </tr>\n",
       "  </tbody>\n",
       "</table>\n",
       "</div>"
      ],
      "text/plain": [
       "   x1  x2\n",
       "0   0   0\n",
       "1   0   1\n",
       "2   1   0\n",
       "3   1   1"
      ]
     },
     "execution_count": 11,
     "metadata": {},
     "output_type": "execute_result"
    }
   ],
   "source": [
    "X = AND.drop('y' , axis=  1 )\n",
    "X"
   ]
  },
  {
   "cell_type": "code",
   "execution_count": 12,
   "metadata": {},
   "outputs": [
    {
     "data": {
      "text/html": [
       "<div>\n",
       "<style scoped>\n",
       "    .dataframe tbody tr th:only-of-type {\n",
       "        vertical-align: middle;\n",
       "    }\n",
       "\n",
       "    .dataframe tbody tr th {\n",
       "        vertical-align: top;\n",
       "    }\n",
       "\n",
       "    .dataframe thead th {\n",
       "        text-align: right;\n",
       "    }\n",
       "</style>\n",
       "<table border=\"1\" class=\"dataframe\">\n",
       "  <thead>\n",
       "    <tr style=\"text-align: right;\">\n",
       "      <th></th>\n",
       "      <th>y</th>\n",
       "    </tr>\n",
       "  </thead>\n",
       "  <tbody>\n",
       "    <tr>\n",
       "      <th>0</th>\n",
       "      <td>0</td>\n",
       "    </tr>\n",
       "    <tr>\n",
       "      <th>1</th>\n",
       "      <td>0</td>\n",
       "    </tr>\n",
       "    <tr>\n",
       "      <th>2</th>\n",
       "      <td>0</td>\n",
       "    </tr>\n",
       "    <tr>\n",
       "      <th>3</th>\n",
       "      <td>1</td>\n",
       "    </tr>\n",
       "  </tbody>\n",
       "</table>\n",
       "</div>"
      ],
      "text/plain": [
       "   y\n",
       "0  0\n",
       "1  0\n",
       "2  0\n",
       "3  1"
      ]
     },
     "execution_count": 12,
     "metadata": {},
     "output_type": "execute_result"
    }
   ],
   "source": [
    "y = AND.y\n",
    "y.to_frame()"
   ]
  },
  {
   "cell_type": "code",
   "execution_count": 30,
   "metadata": {},
   "outputs": [
    {
     "name": "stdout",
     "output_type": "stream",
     "text": [
      "self.weights : \n",
      "[-5.86439872e-05  4.05320422e-05  5.89499535e-05]\n",
      "X_with_bias: \n",
      "[[ 0.  0. -1.]\n",
      " [ 0.  1. -1.]\n",
      " [ 1.  0. -1.]\n",
      " [ 1.  1. -1.]]\n",
      "epoch no :==> 0\n",
      "predicted value: \n",
      "[0 0 0 0]\n",
      "error: \n",
      "0    0\n",
      "1    1\n",
      "2    1\n",
      "3    1\n",
      "Name: y, dtype: int64\n",
      "updated weights: \n",
      "[ 0.00194136  0.00204053 -0.00294105]\n",
      "######################################## \n",
      "\n",
      "epoch no :==> 1\n",
      "predicted value: \n",
      "[1 1 1 1]\n",
      "error: \n",
      "0   -1\n",
      "1    0\n",
      "2    0\n",
      "3    0\n",
      "Name: y, dtype: int64\n",
      "updated weights: \n",
      "[ 0.00194136  0.00204053 -0.00194105]\n",
      "######################################## \n",
      "\n",
      "epoch no :==> 2\n",
      "predicted value: \n",
      "[1 1 1 1]\n",
      "error: \n",
      "0   -1\n",
      "1    0\n",
      "2    0\n",
      "3    0\n",
      "Name: y, dtype: int64\n",
      "updated weights: \n",
      "[ 0.00194136  0.00204053 -0.00094105]\n",
      "######################################## \n",
      "\n",
      "epoch no :==> 3\n",
      "predicted value: \n",
      "[1 1 1 1]\n",
      "error: \n",
      "0   -1\n",
      "1    0\n",
      "2    0\n",
      "3    0\n",
      "Name: y, dtype: int64\n",
      "updated weights: \n",
      "[1.94135601e-03 2.04053204e-03 5.89499535e-05]\n",
      "######################################## \n",
      "\n",
      "epoch no :==> 4\n",
      "predicted value: \n",
      "[0 1 1 1]\n",
      "error: \n",
      "0    0\n",
      "1    0\n",
      "2    0\n",
      "3    0\n",
      "Name: y, dtype: int64\n",
      "updated weights: \n",
      "[1.94135601e-03 2.04053204e-03 5.89499535e-05]\n",
      "######################################## \n",
      "\n",
      "epoch no :==> 5\n",
      "predicted value: \n",
      "[0 1 1 1]\n",
      "error: \n",
      "0    0\n",
      "1    0\n",
      "2    0\n",
      "3    0\n",
      "Name: y, dtype: int64\n",
      "updated weights: \n",
      "[1.94135601e-03 2.04053204e-03 5.89499535e-05]\n",
      "######################################## \n",
      "\n",
      "epoch no :==> 6\n",
      "predicted value: \n",
      "[0 1 1 1]\n",
      "error: \n",
      "0    0\n",
      "1    0\n",
      "2    0\n",
      "3    0\n",
      "Name: y, dtype: int64\n",
      "updated weights: \n",
      "[1.94135601e-03 2.04053204e-03 5.89499535e-05]\n",
      "######################################## \n",
      "\n",
      "epoch no :==> 7\n",
      "predicted value: \n",
      "[0 1 1 1]\n",
      "error: \n",
      "0    0\n",
      "1    0\n",
      "2    0\n",
      "3    0\n",
      "Name: y, dtype: int64\n",
      "updated weights: \n",
      "[1.94135601e-03 2.04053204e-03 5.89499535e-05]\n",
      "######################################## \n",
      "\n"
     ]
    }
   ],
   "source": [
    "model  = Perceptron( eta = 0.001 , epoch = 8 , activationFunction = activationFunction )\n",
    "# eta >>> learning rate (0-1)\n",
    "# epoch >>> how many times you have to update weights \n",
    "# activationFunction >>> function defined outside the class for prediction \n",
    "model.fit(X,y)\n",
    "# once the error == 0 , upadating of the weight is stopped "
   ]
  },
  {
   "cell_type": "markdown",
   "metadata": {},
   "source": [
    "# OR "
   ]
  },
  {
   "cell_type": "code",
   "execution_count": 31,
   "metadata": {},
   "outputs": [
    {
     "data": {
      "text/html": [
       "<div>\n",
       "<style scoped>\n",
       "    .dataframe tbody tr th:only-of-type {\n",
       "        vertical-align: middle;\n",
       "    }\n",
       "\n",
       "    .dataframe tbody tr th {\n",
       "        vertical-align: top;\n",
       "    }\n",
       "\n",
       "    .dataframe thead th {\n",
       "        text-align: right;\n",
       "    }\n",
       "</style>\n",
       "<table border=\"1\" class=\"dataframe\">\n",
       "  <thead>\n",
       "    <tr style=\"text-align: right;\">\n",
       "      <th></th>\n",
       "      <th>x1</th>\n",
       "      <th>x2</th>\n",
       "      <th>y</th>\n",
       "    </tr>\n",
       "  </thead>\n",
       "  <tbody>\n",
       "    <tr>\n",
       "      <th>0</th>\n",
       "      <td>0</td>\n",
       "      <td>0</td>\n",
       "      <td>0</td>\n",
       "    </tr>\n",
       "    <tr>\n",
       "      <th>1</th>\n",
       "      <td>0</td>\n",
       "      <td>1</td>\n",
       "      <td>1</td>\n",
       "    </tr>\n",
       "    <tr>\n",
       "      <th>2</th>\n",
       "      <td>1</td>\n",
       "      <td>0</td>\n",
       "      <td>1</td>\n",
       "    </tr>\n",
       "    <tr>\n",
       "      <th>3</th>\n",
       "      <td>1</td>\n",
       "      <td>1</td>\n",
       "      <td>1</td>\n",
       "    </tr>\n",
       "  </tbody>\n",
       "</table>\n",
       "</div>"
      ],
      "text/plain": [
       "   x1  x2  y\n",
       "0   0   0  0\n",
       "1   0   1  1\n",
       "2   1   0  1\n",
       "3   1   1  1"
      ]
     },
     "execution_count": 31,
     "metadata": {},
     "output_type": "execute_result"
    }
   ],
   "source": [
    "data = {\"x1\": [0,0,1,1], \"x2\": [0,1,0,1], \"y\": [0,1,1,1]}\n",
    "\n",
    "OR = pd.DataFrame(data)\n",
    "OR"
   ]
  },
  {
   "cell_type": "code",
   "execution_count": 32,
   "metadata": {},
   "outputs": [],
   "source": [
    "X= OR.drop('y' ,axis = 1 )\n",
    "y = OR.y "
   ]
  },
  {
   "cell_type": "code",
   "execution_count": 33,
   "metadata": {},
   "outputs": [
    {
     "name": "stdout",
     "output_type": "stream",
     "text": [
      "self.weights : \n",
      "[-0.00015529  0.00010766 -0.00014737]\n",
      "X_with_bias: \n",
      "[[ 0.  0. -1.]\n",
      " [ 0.  1. -1.]\n",
      " [ 1.  0. -1.]\n",
      " [ 1.  1. -1.]]\n",
      "epoch no :==> 0\n",
      "predicted value: \n",
      "[1 1 0 1]\n",
      "error: \n",
      "0   -1\n",
      "1    0\n",
      "2    1\n",
      "3    0\n",
      "Name: y, dtype: int64\n",
      "updated weights: \n",
      "[ 0.00084471  0.00010766 -0.00014737]\n",
      "######################################## \n",
      "\n",
      "epoch no :==> 1\n",
      "predicted value: \n",
      "[1 1 1 1]\n",
      "error: \n",
      "0   -1\n",
      "1    0\n",
      "2    0\n",
      "3    0\n",
      "Name: y, dtype: int64\n",
      "updated weights: \n",
      "[0.00084471 0.00010766 0.00085263]\n",
      "######################################## \n",
      "\n",
      "epoch no :==> 2\n",
      "predicted value: \n",
      "[0 0 0 1]\n",
      "error: \n",
      "0    0\n",
      "1    1\n",
      "2    1\n",
      "3    0\n",
      "Name: y, dtype: int64\n",
      "updated weights: \n",
      "[ 0.00184471  0.00110766 -0.00114737]\n",
      "######################################## \n",
      "\n",
      "epoch no :==> 3\n",
      "predicted value: \n",
      "[1 1 1 1]\n",
      "error: \n",
      "0   -1\n",
      "1    0\n",
      "2    0\n",
      "3    0\n",
      "Name: y, dtype: int64\n",
      "updated weights: \n",
      "[ 0.00184471  0.00110766 -0.00014737]\n",
      "######################################## \n",
      "\n",
      "epoch no :==> 4\n",
      "predicted value: \n",
      "[1 1 1 1]\n",
      "error: \n",
      "0   -1\n",
      "1    0\n",
      "2    0\n",
      "3    0\n",
      "Name: y, dtype: int64\n",
      "updated weights: \n",
      "[0.00184471 0.00110766 0.00085263]\n",
      "######################################## \n",
      "\n",
      "epoch no :==> 5\n",
      "predicted value: \n",
      "[0 1 1 1]\n",
      "error: \n",
      "0    0\n",
      "1    0\n",
      "2    0\n",
      "3    0\n",
      "Name: y, dtype: int64\n",
      "updated weights: \n",
      "[0.00184471 0.00110766 0.00085263]\n",
      "######################################## \n",
      "\n",
      "epoch no :==> 6\n",
      "predicted value: \n",
      "[0 1 1 1]\n",
      "error: \n",
      "0    0\n",
      "1    0\n",
      "2    0\n",
      "3    0\n",
      "Name: y, dtype: int64\n",
      "updated weights: \n",
      "[0.00184471 0.00110766 0.00085263]\n",
      "######################################## \n",
      "\n",
      "epoch no :==> 7\n",
      "predicted value: \n",
      "[0 1 1 1]\n",
      "error: \n",
      "0    0\n",
      "1    0\n",
      "2    0\n",
      "3    0\n",
      "Name: y, dtype: int64\n",
      "updated weights: \n",
      "[0.00184471 0.00110766 0.00085263]\n",
      "######################################## \n",
      "\n"
     ]
    }
   ],
   "source": [
    "model  = Perceptron( eta = 0.001 , epoch = 8 , activationFunction = activationFunction )\n",
    "model.fit(X,y)"
   ]
  },
  {
   "cell_type": "code",
   "execution_count": 34,
   "metadata": {},
   "outputs": [
    {
     "data": {
      "text/plain": [
       "array([0, 1, 1, 1])"
      ]
     },
     "execution_count": 34,
     "metadata": {},
     "output_type": "execute_result"
    }
   ],
   "source": [
    "model.predict( X )"
   ]
  },
  {
   "cell_type": "markdown",
   "metadata": {},
   "source": [
    "# XOR "
   ]
  },
  {
   "cell_type": "markdown",
   "metadata": {},
   "source": [
    "- here the we can't classify the (Non Linear Data) XOR with single perceptron\n",
    "- because , **perceptron only capable for only linear data classification**\n",
    "- and it's the disadvantage of the single layer perceptron model\n",
    "- hence , to overcome this we use **multilayer nural network**"
   ]
  },
  {
   "cell_type": "code",
   "execution_count": 35,
   "metadata": {},
   "outputs": [
    {
     "data": {
      "text/html": [
       "<div>\n",
       "<style scoped>\n",
       "    .dataframe tbody tr th:only-of-type {\n",
       "        vertical-align: middle;\n",
       "    }\n",
       "\n",
       "    .dataframe tbody tr th {\n",
       "        vertical-align: top;\n",
       "    }\n",
       "\n",
       "    .dataframe thead th {\n",
       "        text-align: right;\n",
       "    }\n",
       "</style>\n",
       "<table border=\"1\" class=\"dataframe\">\n",
       "  <thead>\n",
       "    <tr style=\"text-align: right;\">\n",
       "      <th></th>\n",
       "      <th>x1</th>\n",
       "      <th>x2</th>\n",
       "      <th>y</th>\n",
       "    </tr>\n",
       "  </thead>\n",
       "  <tbody>\n",
       "    <tr>\n",
       "      <th>0</th>\n",
       "      <td>0</td>\n",
       "      <td>0</td>\n",
       "      <td>0</td>\n",
       "    </tr>\n",
       "    <tr>\n",
       "      <th>1</th>\n",
       "      <td>0</td>\n",
       "      <td>1</td>\n",
       "      <td>1</td>\n",
       "    </tr>\n",
       "    <tr>\n",
       "      <th>2</th>\n",
       "      <td>1</td>\n",
       "      <td>0</td>\n",
       "      <td>1</td>\n",
       "    </tr>\n",
       "    <tr>\n",
       "      <th>3</th>\n",
       "      <td>1</td>\n",
       "      <td>1</td>\n",
       "      <td>0</td>\n",
       "    </tr>\n",
       "  </tbody>\n",
       "</table>\n",
       "</div>"
      ],
      "text/plain": [
       "   x1  x2  y\n",
       "0   0   0  0\n",
       "1   0   1  1\n",
       "2   1   0  1\n",
       "3   1   1  0"
      ]
     },
     "execution_count": 35,
     "metadata": {},
     "output_type": "execute_result"
    }
   ],
   "source": [
    "data = {\"x1\": [0,0,1,1], \"x2\": [0,1,0,1], \"y\": [0,1,1,0]}\n",
    "\n",
    "XOR = pd.DataFrame(data)\n",
    "XOR"
   ]
  },
  {
   "cell_type": "code",
   "execution_count": 36,
   "metadata": {},
   "outputs": [],
   "source": [
    "X= XOR.drop('y' , axis=1)\n",
    "y = XOR.y"
   ]
  },
  {
   "cell_type": "code",
   "execution_count": 37,
   "metadata": {},
   "outputs": [
    {
     "name": "stdout",
     "output_type": "stream",
     "text": [
      "self.weights : \n",
      "[-9.52268103e-05 -8.04109748e-05 -6.65758316e-05]\n",
      "X_with_bias: \n",
      "[[ 0.  0. -1.]\n",
      " [ 0.  1. -1.]\n",
      " [ 1.  0. -1.]\n",
      " [ 1.  1. -1.]]\n",
      "epoch no :==> 0\n",
      "predicted value: \n",
      "[1 0 0 0]\n",
      "error: \n",
      "0   -1\n",
      "1    1\n",
      "2    1\n",
      "3    0\n",
      "Name: y, dtype: int64\n",
      "updated weights: \n",
      "[ 0.00090477  0.00091959 -0.00106658]\n",
      "######################################## \n",
      "\n",
      "epoch no :==> 1\n",
      "predicted value: \n",
      "[1 1 1 1]\n",
      "error: \n",
      "0   -1\n",
      "1    0\n",
      "2    0\n",
      "3   -1\n",
      "Name: y, dtype: int64\n",
      "updated weights: \n",
      "[-9.52268103e-05 -8.04109748e-05  9.33424168e-04]\n",
      "######################################## \n",
      "\n",
      "epoch no :==> 2\n",
      "predicted value: \n",
      "[0 0 0 0]\n",
      "error: \n",
      "0    0\n",
      "1    1\n",
      "2    1\n",
      "3    0\n",
      "Name: y, dtype: int64\n",
      "updated weights: \n",
      "[ 0.00090477  0.00091959 -0.00106658]\n",
      "######################################## \n",
      "\n",
      "epoch no :==> 3\n",
      "predicted value: \n",
      "[1 1 1 1]\n",
      "error: \n",
      "0   -1\n",
      "1    0\n",
      "2    0\n",
      "3   -1\n",
      "Name: y, dtype: int64\n",
      "updated weights: \n",
      "[-9.52268103e-05 -8.04109748e-05  9.33424168e-04]\n",
      "######################################## \n",
      "\n",
      "epoch no :==> 4\n",
      "predicted value: \n",
      "[0 0 0 0]\n",
      "error: \n",
      "0    0\n",
      "1    1\n",
      "2    1\n",
      "3    0\n",
      "Name: y, dtype: int64\n",
      "updated weights: \n",
      "[ 0.00090477  0.00091959 -0.00106658]\n",
      "######################################## \n",
      "\n",
      "epoch no :==> 5\n",
      "predicted value: \n",
      "[1 1 1 1]\n",
      "error: \n",
      "0   -1\n",
      "1    0\n",
      "2    0\n",
      "3   -1\n",
      "Name: y, dtype: int64\n",
      "updated weights: \n",
      "[-9.52268103e-05 -8.04109748e-05  9.33424168e-04]\n",
      "######################################## \n",
      "\n",
      "epoch no :==> 6\n",
      "predicted value: \n",
      "[0 0 0 0]\n",
      "error: \n",
      "0    0\n",
      "1    1\n",
      "2    1\n",
      "3    0\n",
      "Name: y, dtype: int64\n",
      "updated weights: \n",
      "[ 0.00090477  0.00091959 -0.00106658]\n",
      "######################################## \n",
      "\n",
      "epoch no :==> 7\n",
      "predicted value: \n",
      "[1 1 1 1]\n",
      "error: \n",
      "0   -1\n",
      "1    0\n",
      "2    0\n",
      "3   -1\n",
      "Name: y, dtype: int64\n",
      "updated weights: \n",
      "[-9.52268103e-05 -8.04109748e-05  9.33424168e-04]\n",
      "######################################## \n",
      "\n"
     ]
    }
   ],
   "source": [
    "model  = Perceptron( eta = 0.001 , epoch = 8 , activationFunction = activationFunction )\n",
    "model.fit(X,y)"
   ]
  },
  {
   "cell_type": "markdown",
   "metadata": {},
   "source": [
    "# **Graphical Analysis**"
   ]
  },
  {
   "cell_type": "code",
   "execution_count": 40,
   "metadata": {},
   "outputs": [
    {
     "data": {
      "text/plain": [
       "[<matplotlib.lines.Line2D at 0x1dc83a0d9d0>]"
      ]
     },
     "execution_count": 40,
     "metadata": {},
     "output_type": "execute_result"
    },
    {
     "data": {
      "image/png": "[encoded data removed]",
      "text/plain": [
       "<Figure size 432x288 with 2 Axes>"
      ]
     },
     "metadata": {},
     "output_type": "display_data"
    }
   ],
   "source": [
    "AND.plot(kind=\"scatter\", x=\"x1\", y=\"x2\", c=\"y\", s=50, cmap=\"winter\")\n",
    "plt.title(\"AND gate \")\n",
    "x = np.linspace(0, 1) # >>> 50 \n",
    "y = 1.5 - 1*np.linspace(0, 1.4) # >>> 50 \n",
    "plt.plot(x,y ,'r--')\n"
   ]
  },
  {
   "cell_type": "code",
   "execution_count": 41,
   "metadata": {},
   "outputs": [
    {
     "data": {
      "text/plain": [
       "Text(0.5, 1.0, 'OR gate ')"
      ]
     },
     "execution_count": 41,
     "metadata": {},
     "output_type": "execute_result"
    },
    {
     "data": {
      "image/png": "[encoded data removed]",
      "text/plain": [
       "<Figure size 432x288 with 2 Axes>"
      ]
     },
     "metadata": {},
     "output_type": "display_data"
    }
   ],
   "source": [
    "OR.plot(kind=\"scatter\", x=\"x1\", y=\"x2\", c=\"y\", s=50, cmap=\"winter\")\n",
    "plt.title(\"OR gate \")"
   ]
  },
  {
   "cell_type": "code",
   "execution_count": 43,
   "metadata": {},
   "outputs": [
    {
     "data": {
      "text/plain": [
       "Text(0.5, 1.0, 'XOR gate ')"
      ]
     },
     "execution_count": 43,
     "metadata": {},
     "output_type": "execute_result"
    },
    {
     "data": {
      "image/png": "[encoded data removed]",
      "text/plain": [
       "<Figure size 432x288 with 2 Axes>"
      ]
     },
     "metadata": {},
     "output_type": "display_data"
    }
   ],
   "source": [
    "XOR.plot(kind=\"scatter\", x=\"x1\", y=\"x2\", c=\"y\", s=50, cmap=\"winter\")\n",
    "plt.title(\"XOR gate \")\n",
    "#here the data can't be linearly seperate\n",
    "# hence we use multilayer nural network\n"
   ]
  },
  {
   "cell_type": "code",
   "execution_count": null,
   "metadata": {},
   "outputs": [],
   "source": []
  }
 ],
 "metadata": {
  "kernelspec": {
   "display_name": "Python 3",
   "language": "python",
   "name": "python3"
  },
  "language_info": {
   "codemirror_mode": {
    "name": "ipython",
    "version": 3
   },
   "file_extension": ".py",
   "mimetype": "text/x-python",
   "name": "python",
   "nbconvert_exporter": "python",
   "pygments_lexer": "ipython3",
   "version": "3.8.5"
  },
  "toc": {
   "base_numbering": 1,
   "nav_menu": {},
   "number_sections": true,
   "sideBar": true,
   "skip_h1_title": false,
   "title_cell": "Table of Contents",
   "title_sidebar": "Contents",
   "toc_cell": false,
   "toc_position": {},
   "toc_section_display": true,
   "toc_window_display": false
  }
 },
 "nbformat": 4,
 "nbformat_minor": 4
}
